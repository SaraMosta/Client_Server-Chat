{
 "cells": [
  {
   "cell_type": "code",
   "execution_count": 1,
   "id": "521650dc",
   "metadata": {},
   "outputs": [],
   "source": [
    "import tkinter as tk\n",
    "from tkinter import scrolledtext\n",
    "import socket\n",
    "import threading\n"
   ]
  },
  {
   "cell_type": "code",
   "execution_count": 2,
   "id": "048b6d87",
   "metadata": {},
   "outputs": [],
   "source": [
    "class ClientGUI:\n",
    "    def __init__(self, root):\n",
    "        self.root = root\n",
    "        self.root.title(\"Chat Client\")\n",
    "\n",
    "        self.text_area = scrolledtext.ScrolledText(self.root, width=40, height=10)\n",
    "        self.text_area.grid(row=0, column=0, padx=10, pady=10)\n",
    "\n",
    "        self.entry = tk.Entry(self.root, width=30)\n",
    "        self.entry.grid(row=1, column=0, padx=10, pady=5)\n",
    "\n",
    "        self.send_button = tk.Button(self.root, text=\"Send\", command=self.send_message)\n",
    "        self.send_button.grid(row=1, column=1, padx=5, pady=5)\n",
    "\n",
    "        self.quit_button = tk.Button(self.root, text=\"Quit\", command=self.quit)\n",
    "        self.quit_button.grid(row=1, column=2, padx=5, pady=5)\n",
    "\n",
    "        self.client_socket = socket.socket(socket.AF_INET, socket.SOCK_STREAM)\n",
    "        self.client_socket.connect(('localhost', 9999))\n",
    "\n",
    "        receive_thread = threading.Thread(target=self.receive_messages)\n",
    "        receive_thread.start()\n",
    "\n",
    "    def send_message(self):\n",
    "        message = self.entry.get()\n",
    "        self.text_area.insert(tk.END, f\"Me: {message}\\n\")\n",
    "        self.client_socket.send(message.encode('utf-8'))\n",
    "        self.entry.delete(0, tk.END)\n",
    "\n",
    "    def receive_messages(self):\n",
    "        while True:\n",
    "            try:\n",
    "                message = self.client_socket.recv(1024).decode('utf-8')\n",
    "                if not message:  # If server closes the connection\n",
    "                    break\n",
    "                self.text_area.insert(tk.END, f\"Server: {message}\\n\")\n",
    "            except ConnectionAbortedError:\n",
    "                break\n",
    "\n",
    "        # If the loop breaks, it means the connection is closed\n",
    "        self.client_socket.close()\n",
    "        self.root.destroy()\n",
    "\n",
    "    def quit(self):\n",
    "        self.client_socket.close()  # Close the socket\n",
    "        self.root.destroy()"
   ]
  },
  {
   "cell_type": "code",
   "execution_count": 3,
   "id": "e3c72087",
   "metadata": {},
   "outputs": [],
   "source": [
    "\n",
    "if __name__ == \"__main__\":\n",
    "    root = tk.Tk()\n",
    "    app = ClientGUI(root)\n",
    "    root.mainloop()"
   ]
  }
 ],
 "metadata": {
  "kernelspec": {
   "display_name": "Python 3 (ipykernel)",
   "language": "python",
   "name": "python3"
  },
  "language_info": {
   "codemirror_mode": {
    "name": "ipython",
    "version": 3
   },
   "file_extension": ".py",
   "mimetype": "text/x-python",
   "name": "python",
   "nbconvert_exporter": "python",
   "pygments_lexer": "ipython3",
   "version": "3.11.5"
  }
 },
 "nbformat": 4,
 "nbformat_minor": 5
}
