{
 "cells": [
  {
   "cell_type": "code",
   "execution_count": 1,
   "id": "16519e62",
   "metadata": {},
   "outputs": [],
   "source": [
    "import socket\n",
    "import threading\n"
   ]
  },
  {
   "cell_type": "code",
   "execution_count": 2,
   "id": "113bf642",
   "metadata": {},
   "outputs": [],
   "source": [
    "def handle_client(client_socket, address):\n",
    "    print(f\"Connected with {address}\")\n",
    "    while True:\n",
    "        try:\n",
    "            message = client_socket.recv(1024).decode('utf-8')\n",
    "            if not message:  # If client closes the connection\n",
    "                break\n",
    "            print(f\"Received from {address}: {message}\")\n",
    "            # Echo the message back to the client\n",
    "            client_socket.send(message.encode('utf-8'))\n",
    "        except ConnectionResetError:  # Handle client forcibly closing the connection\n",
    "            break\n",
    "    client_socket.close()"
   ]
  },
  {
   "cell_type": "code",
   "execution_count": null,
   "id": "0f432241",
   "metadata": {},
   "outputs": [],
   "source": [
    "server_socket = socket.socket(socket.AF_INET, socket.SOCK_STREAM)\n",
    "server_socket.bind(('localhost', 9999))\n",
    "server_socket.listen(5)  # Maximum 5 clients\n",
    "\n",
    "print(\"Server is listening...\")\n",
    "\n",
    "while True:\n",
    "        client_socket, address = server_socket.accept()\n",
    "        client_handler = threading.Thread(target=handle_client, args=(client_socket, address))\n",
    "        client_handler.start()"
   ]
  }
 ],
 "metadata": {
  "kernelspec": {
   "display_name": "Python 3 (ipykernel)",
   "language": "python",
   "name": "python3"
  },
  "language_info": {
   "codemirror_mode": {
    "name": "ipython",
    "version": 3
   },
   "file_extension": ".py",
   "mimetype": "text/x-python",
   "name": "python",
   "nbconvert_exporter": "python",
   "pygments_lexer": "ipython3",
   "version": "3.11.5"
  }
 },
 "nbformat": 4,
 "nbformat_minor": 5
}
